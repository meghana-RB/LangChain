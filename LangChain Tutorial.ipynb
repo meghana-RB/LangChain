{
 "cells": [
  {
   "cell_type": "markdown",
   "id": "476414dc-4b9b-4c50-b2af-8f19945d336c",
   "metadata": {},
   "source": [
    "## Question Answering with LangChain ##\n",
    "\n",
    "Question Answering in Natural Language Processing (NLP) and Information Retrieval (IR) is the task of answering questions through a combination of fetching the relevant documents and understanding them to make inferences, but abstaining when presented with a question that cannot be answered based on the provided context. __[LangChain](https://python.langchain.com/en/latest/index.html)__ is a library that makes it easy to combine several language models for applications. This tutorial illustrates a robust QA application that uses embedding-based retrieval and answering with the LangChain library. \n"
   ]
  },
  {
   "cell_type": "markdown",
   "id": "4fe815e9-29e5-479a-b707-470e9e7a99b2",
   "metadata": {},
   "source": [
    "## Getting started ##"
   ]
  },
  {
   "cell_type": "markdown",
   "id": "13c1c8c9-4dfe-4808-ae7d-01bd57961cc7",
   "metadata": {},
   "source": [
    "Install LangChain"
   ]
  },
  {
   "cell_type": "code",
   "execution_count": 26,
   "id": "0fef0914-4ded-4d27-93dc-351a4d1cfbfe",
   "metadata": {},
   "outputs": [],
   "source": [
    "# !pip install update langchain"
   ]
  },
  {
   "cell_type": "markdown",
   "id": "ebadb254-1bc0-47b5-89b4-90beea9a1960",
   "metadata": {},
   "source": [
    "Get HuggingFace API keys. Refer this __[page](https://huggingface.co/docs/hub/security-tokens)__ page for more information"
   ]
  },
  {
   "cell_type": "code",
   "execution_count": 1,
   "id": "a1138619-a066-49d0-97a7-bb4ada373ce0",
   "metadata": {},
   "outputs": [],
   "source": [
    "import os"
   ]
  },
  {
   "cell_type": "code",
   "execution_count": 2,
   "id": "0cdd3e4a-ff27-4c66-aabf-b89d55098ae0",
   "metadata": {},
   "outputs": [],
   "source": [
    "with open('keys.txt') as f:\n",
    "    key = [row.rstrip('\\n') for row in f]\n",
    "\n",
    "os.environ[\"HUGGINGFACEHUB_API_TOKEN\"] = key[1]"
   ]
  },
  {
   "cell_type": "markdown",
   "id": "fa13bcd5-6723-41c0-8210-34f46e05e587",
   "metadata": {},
   "source": [
    "## Creating a Vector Database ##"
   ]
  },
  {
   "cell_type": "markdown",
   "id": "adf18585-4d09-4ac9-914e-e1f0554b429e",
   "metadata": {},
   "source": [
    "Let's start by creating an index over the context documents. Even though theoretically an LLM can go over all the documents to look for the answer to a given query, we are limited by the context window of an LLM. Parsing over smaller chunks of every document is computationally expensive and time consuming. A retriever module will shortlist documents that can be parsed to the LLM to produce an answer.\n"
   ]
  },
  {
   "cell_type": "markdown",
   "id": "30668e60-8e15-4961-af26-be617bfbe76f",
   "metadata": {},
   "source": [
    "__What is a vector database?__\n",
    "Vector databases index vector embeddings to enable effective similarity search. LangChain supports several types of vector databses- it calls them vectorstores. More information about Langhain's support can be found __[here](https://python.langchain.com/en/latest/modules/indexes/vectorstores.html#vectorstores)__.\n",
    "\n",
    "In this tutorial, we use a FAISS vectorstore to index Hugginface embeddings of our documents."
   ]
  },
  {
   "cell_type": "markdown",
   "id": "a0709a78-47d2-43c6-ae55-8094525d6653",
   "metadata": {},
   "source": [
    "__Loading documents__"
   ]
  },
  {
   "cell_type": "markdown",
   "id": "8b75754c-024d-436d-809e-0e29c8f0c3fa",
   "metadata": {},
   "source": [
    "We use the CMU Book Summary dataset, which contains plot summaries for 16,559 books extracted from Wikipedia, along with aligned metadata from Freebase, including book author, title, and genre."
   ]
  },
  {
   "cell_type": "code",
   "execution_count": 3,
   "id": "c2f49ec5-7fd4-4ffa-a6bd-8e149215dfa6",
   "metadata": {},
   "outputs": [],
   "source": [
    "with open('booksummaries.txt', 'r') as f:\n",
    "        doc = f.read()"
   ]
  },
  {
   "cell_type": "code",
   "execution_count": 4,
   "id": "5c166d8d-e8e5-4461-a0a0-7cd1689ce3e6",
   "metadata": {},
   "outputs": [
    {
     "data": {
      "text/plain": [
       "43403998"
      ]
     },
     "execution_count": 4,
     "metadata": {},
     "output_type": "execute_result"
    }
   ],
   "source": [
    "len(doc)"
   ]
  },
  {
   "cell_type": "code",
   "execution_count": 5,
   "id": "9e077e61-0490-413c-9b93-6242b5f9dbed",
   "metadata": {},
   "outputs": [],
   "source": [
    "doc = doc[0:50000]"
   ]
  },
  {
   "cell_type": "markdown",
   "id": "544c02eb-c35c-429a-bd36-2b6ce55143c0",
   "metadata": {},
   "source": [
    "This string is too large. We have to split it into a context window that is suitable for an LLM. Let's chunk these by tokens. LLMs typically have a window of 512 tokens. First, we need to define the tokeinzer."
   ]
  },
  {
   "cell_type": "code",
   "execution_count": 6,
   "id": "2cb69c1d-8f7d-4761-9a27-d314b305f2be",
   "metadata": {},
   "outputs": [
    {
     "name": "stderr",
     "output_type": "stream",
     "text": [
      "C:\\Users\\megsr\\.conda\\envs\\py39\\lib\\site-packages\\tqdm\\auto.py:22: TqdmWarning: IProgress not found. Please update jupyter and ipywidgets. See https://ipywidgets.readthedocs.io/en/stable/user_install.html\n",
      "  from .autonotebook import tqdm as notebook_tqdm\n"
     ]
    }
   ],
   "source": [
    "from transformers import AutoTokenizer\n",
    "tokenizer = AutoTokenizer.from_pretrained('sentence-transformers/all-mpnet-base-v2')"
   ]
  },
  {
   "cell_type": "markdown",
   "id": "49b8f998-a340-4959-9bc1-553f4d470029",
   "metadata": {},
   "source": [
    "Next, we use this tokeizer to create chunks of the document containing ~500 tokens"
   ]
  },
  {
   "cell_type": "code",
   "execution_count": 7,
   "id": "b4c7745f-349c-46f5-bcc7-e03159ba99fa",
   "metadata": {},
   "outputs": [],
   "source": [
    "from langchain.text_splitter import RecursiveCharacterTextSplitter\n",
    "from langchain.vectorstores.faiss import FAISS\n",
    "from langchain.vectorstores import FAISS\n",
    "from langchain.embeddings import HuggingFaceEmbeddings"
   ]
  },
  {
   "cell_type": "code",
   "execution_count": 8,
   "id": "38bb0355-3988-46b5-bd4b-c5b4c280d361",
   "metadata": {},
   "outputs": [],
   "source": [
    "text_splitter = RecursiveCharacterTextSplitter.from_huggingface_tokenizer(tokenizer, \\\n",
    "                                                                 chunk_size=500, chunk_overlap=0)"
   ]
  },
  {
   "cell_type": "code",
   "execution_count": 9,
   "id": "9cb92dc7-fabd-4d1f-9096-e76231728a62",
   "metadata": {},
   "outputs": [],
   "source": [
    "splits = text_splitter.split_text(doc)\n",
    "sources = [i for i in range(len(splits))]\n",
    "metadatas = [{\"source\": sources[i]} for i in range(len(sources))]"
   ]
  },
  {
   "cell_type": "code",
   "execution_count": 10,
   "id": "9a692a29-163e-4107-b329-6aa6d04fdf55",
   "metadata": {},
   "outputs": [
    {
     "data": {
      "text/plain": [
       "59"
      ]
     },
     "execution_count": 10,
     "metadata": {},
     "output_type": "execute_result"
    }
   ],
   "source": [
    "len(splits)"
   ]
  },
  {
   "cell_type": "code",
   "execution_count": 12,
   "id": "44540613-fe67-425e-b01e-1c393d66b566",
   "metadata": {},
   "outputs": [
    {
     "data": {
      "text/plain": [
       "'620\\t/m/0hhy\\tAnimal Farm\\tGeorge Orwell\\t1945-08-17\\t{\"/m/016lj8\": \"Roman \\\\u00e0 clef\", \"/m/06nbt\": \"Satire\", \"/m/0dwly\": \"Children\\'s literature\", \"/m/014dfn\": \"Speculative fiction\", \"/m/02xlf\": \"Fiction\"}\\t Old Major, the old boar on the Manor Farm, calls the animals on the farm for a meeting, where he compares the humans to parasites and teaches the animals a revolutionary song, \\'Beasts of England\\'. When Major dies, two young pigs, Snowball and Napoleon, assume command and turn his dream into a philosophy. The animals revolt and drive the drunken and irresponsible Mr Jones from the farm, renaming it \"Animal Farm\". They adopt Seven Commandments of Animal-ism, the most important of which is, \"All animals are equal\". Snowball attempts to teach the animals reading and writing; food is plentiful, and the farm runs smoothly. The pigs elevate themselves to positions of'"
      ]
     },
     "execution_count": 12,
     "metadata": {},
     "output_type": "execute_result"
    }
   ],
   "source": [
    "splits[0]"
   ]
  },
  {
   "cell_type": "markdown",
   "id": "6c583e3b-1503-4762-9d95-06d9043b8d33",
   "metadata": {},
   "source": [
    "The texts are now is a more suitable form to be parsed to an LLM. Next, let's create a FAISS Vectorstore from these chunks. We use HugginfFace's __gtr-t5-large__ for our purposes"
   ]
  },
  {
   "cell_type": "code",
   "execution_count": 13,
   "id": "d5884059-dc4c-4adc-93c1-75f86cc09ef6",
   "metadata": {},
   "outputs": [],
   "source": [
    "embeddings = HuggingFaceEmbeddings(model_name='gtr-t5-large')\n"
   ]
  },
  {
   "cell_type": "code",
   "execution_count": 14,
   "id": "6f782672-0531-4216-b2f8-59c735f55dbc",
   "metadata": {},
   "outputs": [],
   "source": [
    "vectorstore = FAISS.from_texts(splits, embeddings, metadatas=metadatas)"
   ]
  },
  {
   "cell_type": "markdown",
   "id": "f18ce511-bc4e-4b35-b5ce-9d42711fbb12",
   "metadata": {
    "tags": []
   },
   "source": [
    "## Querying the LLM using the context documents ##"
   ]
  },
  {
   "cell_type": "markdown",
   "id": "d6e523c9-c099-4508-90f6-642c4dc2bc68",
   "metadata": {},
   "source": [
    "Now, we have a vectorstore with indices and embedding-based representation of the chunks of the summaries. We can now do a smilarity search based on a query to fetch the most relevant chunks. Subsequently, we feed these chunks to the LLM to proudce an answer for the query."
   ]
  },
  {
   "cell_type": "code",
   "execution_count": 27,
   "id": "35775a5d-141d-4010-834e-23881226a174",
   "metadata": {},
   "outputs": [],
   "source": [
    "query = \"What is the philosophy of Animal Farm\"\n",
    "docs = vectorstore.similarity_search(query)"
   ]
  },
  {
   "cell_type": "code",
   "execution_count": 28,
   "id": "2bee60e3-0553-4e30-9418-534fdc829ee7",
   "metadata": {},
   "outputs": [
    {
     "data": {
      "text/plain": [
       "[Document(page_content='the country. Napoleon announces an alliance with the humans, against the labouring classes of both \"worlds\". He abolishes practices and traditions related to the Revolution, and changes the name of the farm to \"The Manor Farm\". The animals, overhearing the conversation, notice that the faces of the pigs have begun changing. During a poker match, an argument breaks out between Napoleon and Mr Pilkington, and the animals realise that the faces of the pigs look like the faces of humans, and no one can tell the difference between them. The pigs Snowball, Napoleon, and Squealer adapt Old Major\\'s ideas into an actual philosophy, which they formally name Animalism. Soon after, Napoleon and Squealer indulge in the vices of humans (drinking alcohol, sleeping in beds, trading). Squealer is employed to alter the Seven Commandments to account for this humanisation, an allusion to the Soviet government\\'s revising of history', lookup_str='', metadata={'source': 4}, lookup_index=0),\n",
       " Document(page_content='620\\t/m/0hhy\\tAnimal Farm\\tGeorge Orwell\\t1945-08-17\\t{\"/m/016lj8\": \"Roman \\\\u00e0 clef\", \"/m/06nbt\": \"Satire\", \"/m/0dwly\": \"Children\\'s literature\", \"/m/014dfn\": \"Speculative fiction\", \"/m/02xlf\": \"Fiction\"}\\t Old Major, the old boar on the Manor Farm, calls the animals on the farm for a meeting, where he compares the humans to parasites and teaches the animals a revolutionary song, \\'Beasts of England\\'. When Major dies, two young pigs, Snowball and Napoleon, assume command and turn his dream into a philosophy. The animals revolt and drive the drunken and irresponsible Mr Jones from the farm, renaming it \"Animal Farm\". They adopt Seven Commandments of Animal-ism, the most important of which is, \"All animals are equal\". Snowball attempts to teach the animals reading and writing; food is plentiful, and the farm runs smoothly. The pigs elevate themselves to positions of', lookup_str='', metadata={'source': 0}, lookup_index=0),\n",
       " Document(page_content='without cause. Eventually these are replaced with the maxims, \"All animals are equal, but some animals are more equal than others\", and \"Four legs good, two legs better!\" as the pigs become more human. This is an ironic twist to the original purpose of the Seven Commandments, which were supposed to keep order within Animal Farm by uniting the animals together against the humans, and prevent animals from following the humans\\' evil habits. Through the revision of the commandments, Orwell demonstrates how simply political dogma can be turned into malleable propaganda.', lookup_str='', metadata={'source': 6}, lookup_index=0),\n",
       " Document(page_content='working on the windmill. Napoleon sends for a van to take Boxer to the veterinary surgeon\\'s, explaining that better care can be given there. Benjamin, the cynical donkey, who \"could read as well as any pig\", notices that the van belongs to a knacker, and attempts to mount a rescue; but the animals\\' attempts are futile. Squealer reports that the van was purchased by the hospital and the writing from the previous owner had not been repainted. He recounts a tale of Boxer\\'s death in the hands of the best medical care. Years pass, and the pigs learn to walk upright, carry whips and wear clothes. The Seven Commandments are reduced to a single phrase: \"All animals are equal, but some animals are more equal than others\". Napoleon holds a dinner party for the pigs and the humans of the area, who congratulate Napoleon on having the hardest-working but least fed animals in', lookup_str='', metadata={'source': 3}, lookup_index=0)]"
      ]
     },
     "execution_count": 28,
     "metadata": {},
     "output_type": "execute_result"
    }
   ],
   "source": [
    "docs"
   ]
  },
  {
   "cell_type": "markdown",
   "id": "85b7391a-fc93-4e11-978f-5de75bad8e27",
   "metadata": {},
   "source": [
    "__Defining a template__"
   ]
  },
  {
   "cell_type": "code",
   "execution_count": 16,
   "id": "d0ad821e-d3fa-4e0f-b742-0189c0b7a613",
   "metadata": {},
   "outputs": [],
   "source": [
    "from langchain import PromptTemplate, HuggingFaceHub, LLMChain"
   ]
  },
  {
   "cell_type": "markdown",
   "id": "9001457f-4427-43c2-bcda-bf09fe0d1ffb",
   "metadata": {},
   "source": [
    "A prompt template in LangChain is used to help an LLM 'think' or structure the input in such a way so as to get the most approapriate answer. The template is a text string that contains instructions for the LLM on what kind of output to produce. More information on Prompts cam be found __[here](https://python.langchain.com/en/latest/modules/prompts/prompt_templates/getting_started.html)__. In this tutorial, we use a simple "
   ]
  },
  {
   "cell_type": "markdown",
   "id": "09d9f9b8-427e-491c-8407-3ac17e6c0c8e",
   "metadata": {},
   "source": [
    "__LLMChain__ is perhaps the most useful functionality in the library. It allows a language model application to seamlessly connect multiple poutputs from different LLMs into coherent text outputs. These is achieved by using Prompts as well as Chains effectively. More information of chains can be found __[here](https://python.langchain.com/en/latest/modules/chains/getting_started.html)__"
   ]
  },
  {
   "cell_type": "markdown",
   "id": "1392dcc8-1f1b-4453-8930-2234aa97e79d",
   "metadata": {},
   "source": [
    "return_only_outputs=False pramaeter allows the LLM to show its chain of reasoning."
   ]
  },
  {
   "cell_type": "code",
   "execution_count": 30,
   "id": "79187766-6cb3-4042-b58f-59d2efcfb7bb",
   "metadata": {},
   "outputs": [
    {
     "data": {
      "text/plain": [
       "{'input_documents': [Document(page_content='the country. Napoleon announces an alliance with the humans, against the labouring classes of both \"worlds\". He abolishes practices and traditions related to the Revolution, and changes the name of the farm to \"The Manor Farm\". The animals, overhearing the conversation, notice that the faces of the pigs have begun changing. During a poker match, an argument breaks out between Napoleon and Mr Pilkington, and the animals realise that the faces of the pigs look like the faces of humans, and no one can tell the difference between them. The pigs Snowball, Napoleon, and Squealer adapt Old Major\\'s ideas into an actual philosophy, which they formally name Animalism. Soon after, Napoleon and Squealer indulge in the vices of humans (drinking alcohol, sleeping in beds, trading). Squealer is employed to alter the Seven Commandments to account for this humanisation, an allusion to the Soviet government\\'s revising of history', lookup_str='', metadata={'source': 4}, lookup_index=0),\n",
       "  Document(page_content='620\\t/m/0hhy\\tAnimal Farm\\tGeorge Orwell\\t1945-08-17\\t{\"/m/016lj8\": \"Roman \\\\u00e0 clef\", \"/m/06nbt\": \"Satire\", \"/m/0dwly\": \"Children\\'s literature\", \"/m/014dfn\": \"Speculative fiction\", \"/m/02xlf\": \"Fiction\"}\\t Old Major, the old boar on the Manor Farm, calls the animals on the farm for a meeting, where he compares the humans to parasites and teaches the animals a revolutionary song, \\'Beasts of England\\'. When Major dies, two young pigs, Snowball and Napoleon, assume command and turn his dream into a philosophy. The animals revolt and drive the drunken and irresponsible Mr Jones from the farm, renaming it \"Animal Farm\". They adopt Seven Commandments of Animal-ism, the most important of which is, \"All animals are equal\". Snowball attempts to teach the animals reading and writing; food is plentiful, and the farm runs smoothly. The pigs elevate themselves to positions of', lookup_str='', metadata={'source': 0}, lookup_index=0),\n",
       "  Document(page_content='without cause. Eventually these are replaced with the maxims, \"All animals are equal, but some animals are more equal than others\", and \"Four legs good, two legs better!\" as the pigs become more human. This is an ironic twist to the original purpose of the Seven Commandments, which were supposed to keep order within Animal Farm by uniting the animals together against the humans, and prevent animals from following the humans\\' evil habits. Through the revision of the commandments, Orwell demonstrates how simply political dogma can be turned into malleable propaganda.', lookup_str='', metadata={'source': 6}, lookup_index=0),\n",
       "  Document(page_content='working on the windmill. Napoleon sends for a van to take Boxer to the veterinary surgeon\\'s, explaining that better care can be given there. Benjamin, the cynical donkey, who \"could read as well as any pig\", notices that the van belongs to a knacker, and attempts to mount a rescue; but the animals\\' attempts are futile. Squealer reports that the van was purchased by the hospital and the writing from the previous owner had not been repainted. He recounts a tale of Boxer\\'s death in the hands of the best medical care. Years pass, and the pigs learn to walk upright, carry whips and wear clothes. The Seven Commandments are reduced to a single phrase: \"All animals are equal, but some animals are more equal than others\". Napoleon holds a dinner party for the pigs and the humans of the area, who congratulate Napoleon on having the hardest-working but least fed animals in', lookup_str='', metadata={'source': 3}, lookup_index=0)],\n",
       " 'question': 'What is the philosophy of Animal Farm',\n",
       " 'text': 'Animal Farm is a novel by George Orwell, a socialist and a novelist'}"
      ]
     },
     "execution_count": 30,
     "metadata": {},
     "output_type": "execute_result"
    }
   ],
   "source": [
    "template = \"\"\"Answer the Question coherently. Question: {question}\"\"\"\n",
    "prompt = PromptTemplate(template=template, input_variables=[\"question\"])\n",
    "llm_chain = LLMChain(prompt=prompt, llm=HuggingFaceHub(repo_id=\"google/flan-t5-xl\", \\\n",
    "                                                       model_kwargs={\"temperature\":1e-10}))\n",
    "\n",
    "llm_chain({\"input_documents\": docs, \"question\": query}, return_only_outputs=False)"
   ]
  },
  {
   "cell_type": "code",
   "execution_count": null,
   "id": "c8a20249-6efb-481a-89e5-7d79a2bf97c6",
   "metadata": {},
   "outputs": [],
   "source": []
  }
 ],
 "metadata": {
  "kernelspec": {
   "display_name": "py96",
   "language": "python",
   "name": "py96"
  },
  "language_info": {
   "codemirror_mode": {
    "name": "ipython",
    "version": 3
   },
   "file_extension": ".py",
   "mimetype": "text/x-python",
   "name": "python",
   "nbconvert_exporter": "python",
   "pygments_lexer": "ipython3",
   "version": "3.9.16"
  }
 },
 "nbformat": 4,
 "nbformat_minor": 5
}
